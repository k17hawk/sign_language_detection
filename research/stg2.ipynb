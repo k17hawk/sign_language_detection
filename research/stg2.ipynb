{
 "cells": [
  {
   "cell_type": "code",
   "execution_count": 1,
   "metadata": {},
   "outputs": [],
   "source": [
    "import os\n",
    "os.chdir(\"../\")"
   ]
  },
  {
   "cell_type": "code",
   "execution_count": 2,
   "metadata": {},
   "outputs": [
    {
     "data": {
      "text/plain": [
       "['setup.py',\n",
       " 'setup.cfg',\n",
       " 'requirements_dev.txt',\n",
       " 'logs',\n",
       " 'env',\n",
       " 'tests',\n",
       " 'stg1.py',\n",
       " 'requiremets.txt',\n",
       " 'Template.py',\n",
       " '.gitignore',\n",
       " 'pyproject.toml',\n",
       " 'research',\n",
       " 'artifacts',\n",
       " 'artifact',\n",
       " 'configs',\n",
       " '.venv',\n",
       " 'dvc.yaml',\n",
       " 'params.yaml',\n",
       " 'README.md',\n",
       " 'src',\n",
       " 'init_setup.sh',\n",
       " '.git',\n",
       " 'tox.ini',\n",
       " 'LICENSE',\n",
       " 'requirements.txt',\n",
       " 'art',\n",
       " '.github']"
      ]
     },
     "execution_count": 2,
     "metadata": {},
     "output_type": "execute_result"
    }
   ],
   "source": [
    "os.listdir()"
   ]
  },
  {
   "cell_type": "code",
   "execution_count": 3,
   "metadata": {},
   "outputs": [],
   "source": [
    "from dataclasses import dataclass\n",
    "from pathlib import Path\n",
    "@dataclass(frozen=True)\n",
    "class PrepareBaseModelConfig:\n",
    "    root_dir: Path\n",
    "    base_model_path: Path\n",
    "    updated_base_model_path: Path\n",
    "    kernel_layers1: int\n",
    "    kernel_layers2: int\n",
    "    kernel_layers3: int\n",
    "    params_classes: int\n",
    "    params_final_output_layers: int\n",
    "    params_augmentation: bool\n",
    "    params_image_size: list\n",
    "    params_batch_size: int\n",
    "    params_include_top: bool\n",
    "    params_epochs: int"
   ]
  },
  {
   "cell_type": "code",
   "execution_count": 4,
   "metadata": {},
   "outputs": [],
   "source": [
    "from ASL_alphabet.constants import *\n",
    "from ASL_alphabet.utils import read_yaml, create_directories"
   ]
  },
  {
   "cell_type": "code",
   "execution_count": 5,
   "metadata": {},
   "outputs": [],
   "source": [
    "class ConfigurationManager:\n",
    "    def __init__(\n",
    "        self, \n",
    "        config_filepath = CONFIG_FILE_PATH,\n",
    "        params_filepath = PARAMS_FILE_PATH):\n",
    "        self.config = read_yaml(config_filepath)\n",
    "        self.params = read_yaml(params_filepath)\n",
    "        create_directories([self.config.artifacts_root])\n",
    "\n",
    "    \n",
    "    def get_prepare_base_model_config(self) -> PrepareBaseModelConfig:\n",
    "            config = self.config.prepare_base_model\n",
    "            \n",
    "            create_directories([config.root_dir])\n",
    "\n",
    "            prepare_base_model_config = PrepareBaseModelConfig(\n",
    "                root_dir=Path(config.root_dir),\n",
    "                base_model_path=Path(config.base_model_path),\n",
    "                updated_base_model_path=Path(config.updated_base_model_path),\n",
    "                kernel_layers1= self.params.KERNEL_LAYERS1,\n",
    "                kernel_layers2= self.params.KERNEL_LAYERS2,\n",
    "                kernel_layers3= self.params.KERNEL_LAYERS3,\n",
    "                params_classes= self.params.CLASSES,\n",
    "                params_final_output_layers= self.params.FINAL_OUTPUT_LAYERS,\n",
    "                params_augmentation= self.params.AUGMENTATION,\n",
    "                params_image_size= self.params.IMAGE_SIZE,\n",
    "                params_batch_size= self.params.BATCH_SIZE,\n",
    "                params_include_top= self.params.INCLUDE_TOP,\n",
    "                params_epochs= self.params.EPOCHS,\n",
    "         \n",
    "            )\n",
    "\n",
    "            return prepare_base_model_config"
   ]
  },
  {
   "cell_type": "code",
   "execution_count": 6,
   "metadata": {},
   "outputs": [
    {
     "name": "stderr",
     "output_type": "stream",
     "text": [
      "2023-07-10 20:47:33.912917: I tensorflow/core/platform/cpu_feature_guard.cc:182] This TensorFlow binary is optimized to use available CPU instructions in performance-critical operations.\n",
      "To enable the following instructions: AVX2 FMA, in other operations, rebuild TensorFlow with the appropriate compiler flags.\n",
      "2023-07-10 20:47:34.429200: W tensorflow/compiler/tf2tensorrt/utils/py_utils.cc:38] TF-TRT Warning: Could not find TensorRT\n"
     ]
    }
   ],
   "source": [
    "import os\n",
    "import urllib.request as request\n",
    "from zipfile import ZipFile\n",
    "import tensorflow as tf"
   ]
  },
  {
   "cell_type": "code",
   "execution_count": 9,
   "metadata": {},
   "outputs": [],
   "source": [
    "import os\n",
    "import urllib.request as request\n",
    "from ASL_alphabet.entity import PrepareBaseModelConfig\n",
    "import tensorflow as tf\n",
    "from pathlib import Path\n",
    "\n",
    "\n",
    "class PrepareBaseModel:\n",
    "    def __init__(self, config: PrepareBaseModelConfig):\n",
    "        self.config = config\n",
    "\n",
    "    def create_base_model(self):\n",
    "\n",
    "        self.model = tf.keras.Sequential(\n",
    "            [\n",
    "                tf.keras.Input(shape=self.config.params_image_size),\n",
    "                tf.keras.layers.Conv2D(\n",
    "                        self.config.kernel_layers1,(3, 3), \n",
    "                        strides=1,padding='same', \n",
    "                        activation=\"relu\"\n",
    "                    ),\n",
    "                tf.keras.layers.BatchNormalization(),\n",
    "                tf.keras.layers.MaxPooling2D(\n",
    "                    pool_size=(2, 2),\n",
    "                    strides=2,\n",
    "                    padding='same'\n",
    "                ),\n",
    "                tf.keras.layers.Conv2D(self.config.kernel_layers2,(3,3),strides=1, padding='same', activation=\"relu\"),\n",
    "                tf.keras.layers.Dropout(\n",
    "                    0.2\n",
    "                ),\n",
    "                tf.keras.layers.BatchNormalization(),\n",
    "                tf.keras.layers.MaxPooling2D(\n",
    "                    pool_size=(2, 2),\n",
    "                    strides=2,\n",
    "                    padding='same'\n",
    "                ),\n",
    "                tf.keras.layers.Conv2D(self.config.kernel_layers3,(3,3),strides=1, padding='same', activation=\"relu\"),\n",
    "                tf.keras.layers.BatchNormalization(),\n",
    "                tf.keras.layers.MaxPooling2D(\n",
    "                    pool_size=(2, 2),\n",
    "                    strides=2,\n",
    "                    padding='same'\n",
    "                ),\n",
    "            ]\n",
    "        )\n",
    " \n",
    "        self.save_model(path=self.config.base_model_path, model=self.model)\n",
    "        \n",
    "       \n",
    "\n",
    "\n",
    "\n",
    "    @staticmethod\n",
    "    def _prepare_full_model(model, classes,final_output_layers):\n",
    "   \n",
    "        flatten_in = tf.keras.layers.Flatten()(model.output)\n",
    "        flatten_in = tf.keras.layers.Dense(units=classes,activation='relu')(flatten_in)\n",
    "        flatten_in = tf.keras.layers.Dropout(0.3)(flatten_in)\n",
    "        prediction = tf.keras.layers.Dense(\n",
    "            units=final_output_layers,\n",
    "            activation=\"softmax\"\n",
    "        )(flatten_in)\n",
    "\n",
    "        full_model = tf.keras.models.Model(\n",
    "            inputs=model.input,\n",
    "            outputs=prediction\n",
    "        )\n",
    "\n",
    "        full_model.compile(\n",
    "            optimizer=tf.keras.optimizers.Adam(),\n",
    "            loss=tf.keras.losses.CategoricalCrossentropy(),\n",
    "            metrics=[\"accuracy\"]\n",
    "        )\n",
    "\n",
    "        full_model.summary()\n",
    "        return full_model\n",
    "\n",
    "    def update_base_model(self):\n",
    "        self.full_model = self._prepare_full_model(\n",
    "            model=self.model,\n",
    "            classes=self.config.params_classes,\n",
    "            final_output_layers=self.config.params_final_output_layers,\n",
    "\n",
    "        )\n",
    "\n",
    "        self.save_model(path=self.config.updated_base_model_path, model=self.full_model)\n",
    "\n",
    "    @staticmethod\n",
    "    def save_model(path: Path, model: tf.keras.Model):\n",
    "        model.save(path)"
   ]
  },
  {
   "cell_type": "code",
   "execution_count": 10,
   "metadata": {},
   "outputs": [
    {
     "name": "stdout",
     "output_type": "stream",
     "text": [
      "[2023-07-10 21:08:03,841: INFO: utility]: yaml file: configs/config.yaml loaded successfully\n",
      "[2023-07-10 21:08:03,843: INFO: utility]: yaml file: params.yaml loaded successfully\n",
      "[2023-07-10 21:08:03,843: INFO: utility]: created directory at: artifacts\n",
      "[2023-07-10 21:08:03,844: INFO: utility]: created directory at: artifacts/prepare_base_model\n",
      "[2023-07-10 21:08:03,917: WARNING: saving_utils]: Compiled the loaded model, but the compiled metrics have yet to be built. `model.compile_metrics` will be empty until you train or evaluate the model.\n",
      "Model: \"model\"\n",
      "_________________________________________________________________\n",
      " Layer (type)                Output Shape              Param #   \n",
      "=================================================================\n",
      " input_1 (InputLayer)        [(None, 28, 28, 1)]       0         \n",
      "                                                                 \n",
      " conv2d_3 (Conv2D)           (None, 28, 28, 75)        750       \n",
      "                                                                 \n",
      " batch_normalization_3 (Bat  (None, 28, 28, 75)        300       \n",
      " chNormalization)                                                \n",
      "                                                                 \n",
      " max_pooling2d_3 (MaxPoolin  (None, 14, 14, 75)        0         \n",
      " g2D)                                                            \n",
      "                                                                 \n",
      " conv2d_4 (Conv2D)           (None, 14, 14, 50)        33800     \n",
      "                                                                 \n",
      " dropout_1 (Dropout)         (None, 14, 14, 50)        0         \n",
      "                                                                 \n",
      " batch_normalization_4 (Bat  (None, 14, 14, 50)        200       \n",
      " chNormalization)                                                \n",
      "                                                                 \n",
      " max_pooling2d_4 (MaxPoolin  (None, 7, 7, 50)          0         \n",
      " g2D)                                                            \n",
      "                                                                 \n",
      " conv2d_5 (Conv2D)           (None, 7, 7, 25)          11275     \n",
      "                                                                 \n",
      " batch_normalization_5 (Bat  (None, 7, 7, 25)          100       \n",
      " chNormalization)                                                \n",
      "                                                                 \n",
      " max_pooling2d_5 (MaxPoolin  (None, 4, 4, 25)          0         \n",
      " g2D)                                                            \n",
      "                                                                 \n",
      " flatten (Flatten)           (None, 400)               0         \n",
      "                                                                 \n",
      " dense (Dense)               (None, 512)               205312    \n",
      "                                                                 \n",
      " dropout_2 (Dropout)         (None, 512)               0         \n",
      "                                                                 \n",
      " dense_1 (Dense)             (None, 28)                14364     \n",
      "                                                                 \n",
      "=================================================================\n",
      "Total params: 266101 (1.02 MB)\n",
      "Trainable params: 265801 (1.01 MB)\n",
      "Non-trainable params: 300 (1.17 KB)\n",
      "_________________________________________________________________\n"
     ]
    },
    {
     "name": "stderr",
     "output_type": "stream",
     "text": [
      "/home/lang_chain/Documents/ASL_alphabet/.venv/lib/python3.8/site-packages/keras/src/engine/training.py:3000: UserWarning: You are saving your model as an HDF5 file via `model.save()`. This file format is considered legacy. We recommend using instead the native Keras format, e.g. `model.save('my_model.keras')`.\n",
      "  saving_api.save_model(\n"
     ]
    }
   ],
   "source": [
    "try:\n",
    "    config = ConfigurationManager()\n",
    "    prepare_base_model_config = config.get_prepare_base_model_config()\n",
    "    prepare_base_model = PrepareBaseModel(config=prepare_base_model_config)\n",
    "    prepare_base_model.create_base_model()\n",
    "    prepare_base_model.update_base_model()\n",
    "except Exception as e:\n",
    "    raise e"
   ]
  },
  {
   "cell_type": "code",
   "execution_count": null,
   "metadata": {},
   "outputs": [
    {
     "name": "stdout",
     "output_type": "stream",
     "text": [
      "/bin/bash: /home/lang_chain/anaconda3/lib/libtinfo.so.6: no version information available (required by /bin/bash)\n",
      "kaggle.json  \u001b[0m\u001b[01;34mlogs\u001b[0m/  stg2.ipynb\n"
     ]
    }
   ],
   "source": [
    "ls"
   ]
  },
  {
   "cell_type": "code",
   "execution_count": null,
   "metadata": {},
   "outputs": [],
   "source": []
  }
 ],
 "metadata": {
  "kernelspec": {
   "display_name": "Python 3",
   "language": "python",
   "name": "python3"
  },
  "language_info": {
   "codemirror_mode": {
    "name": "ipython",
    "version": 3
   },
   "file_extension": ".py",
   "mimetype": "text/x-python",
   "name": "python",
   "nbconvert_exporter": "python",
   "pygments_lexer": "ipython3",
   "version": "3.8.17"
  },
  "orig_nbformat": 4
 },
 "nbformat": 4,
 "nbformat_minor": 2
}
