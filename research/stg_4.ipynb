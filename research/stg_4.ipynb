{
 "cells": [
  {
   "cell_type": "code",
   "execution_count": 1,
   "metadata": {},
   "outputs": [],
   "source": [
    "import os\n",
    "os.chdir(\"../\")"
   ]
  },
  {
   "cell_type": "code",
   "execution_count": 2,
   "metadata": {},
   "outputs": [],
   "source": [
    "from dataclasses import dataclass\n",
    "from pathlib import Path\n",
    "\n",
    "\n",
    "@dataclass(frozen=True)\n",
    "class TrainingConfig:\n",
    "    root_dir: Path\n",
    "    trained_model_path: Path\n",
    "    updated_base_model_path: Path\n",
    "    training_data: Path\n",
    "    params_epochs: int\n",
    "    params_batch_size: int\n",
    "    params_is_augmentation: bool\n",
    "    params_image_size: list\n",
    "    \n",
    "@dataclass(frozen=True)\n",
    "\n",
    "class PrepareCallbacksConfig:\n",
    "    root_dir: Path\n",
    "    tensorboard_root_log_dir: Path\n",
    "    checkpoint_model_filepath: Path"
   ]
  },
  {
   "cell_type": "code",
   "execution_count": 3,
   "metadata": {},
   "outputs": [],
   "source": [
    "from ASL_alphabet.constants import *\n",
    "from ASL_alphabet.utils import read_yaml, create_directories"
   ]
  },
  {
   "cell_type": "code",
   "execution_count": 4,
   "metadata": {},
   "outputs": [],
   "source": [
    "class ConfigurationManager:\n",
    "    def __init__(\n",
    "        self, \n",
    "        config_filepath = CONFIG_FILE_PATH,\n",
    "        params_filepath = PARAMS_FILE_PATH):\n",
    "        self.config = read_yaml(config_filepath)\n",
    "        self.params = read_yaml(params_filepath)\n",
    "        create_directories([self.config.artifacts_root])\n",
    "\n",
    "    def get_prepare_callback_config(self) -> PrepareCallbacksConfig:\n",
    "        config = self.config.prepare_callbacks\n",
    "        model_ckpt_dir = os.path.dirname(config.checkpoint_model_filepath)\n",
    "        create_directories([\n",
    "            Path(model_ckpt_dir),\n",
    "            Path(config.tensorboard_root_log_dir)\n",
    "        ])\n",
    "\n",
    "        prepare_callback_config = PrepareCallbacksConfig(\n",
    "            root_dir=Path(config.root_dir),\n",
    "            tensorboard_root_log_dir=Path(config.tensorboard_root_log_dir),\n",
    "            checkpoint_model_filepath=Path(config.checkpoint_model_filepath)\n",
    "        )\n",
    "\n",
    "        return prepare_callback_config\n",
    "\n",
    "    def get_training_config(self) -> TrainingConfig:\n",
    "        training = self.config.training\n",
    "        prepare_base_model = self.config.prepare_base_model\n",
    "        params = self.params\n",
    "        training_data = os.path.join(self.config.data_ingestion.unzip_dir, \"ASL_Dataset\",\"Train\")\n",
    "        create_directories([\n",
    "            Path(training.root_dir)\n",
    "        ])\n",
    "\n",
    "        training_config = TrainingConfig(\n",
    "            root_dir=Path(training.root_dir),\n",
    "            trained_model_path=Path(training.trained_model_path),\n",
    "            updated_base_model_path=Path(prepare_base_model.updated_base_model_path),\n",
    "            training_data=Path(training_data),\n",
    "            params_epochs=params.EPOCHS,\n",
    "            params_batch_size=params.BATCH_SIZE,\n",
    "            params_is_augmentation=params.AUGMENTATION,\n",
    "            params_image_size=params.IMAGE_SIZE\n",
    "        )\n",
    "\n",
    "        return training_config"
   ]
  },
  {
   "cell_type": "code",
   "execution_count": 5,
   "metadata": {},
   "outputs": [
    {
     "name": "stderr",
     "output_type": "stream",
     "text": [
      "2023-07-11 19:38:33.648324: I tensorflow/core/platform/cpu_feature_guard.cc:182] This TensorFlow binary is optimized to use available CPU instructions in performance-critical operations.\n",
      "To enable the following instructions: AVX2 FMA, in other operations, rebuild TensorFlow with the appropriate compiler flags.\n",
      "2023-07-11 19:38:34.458379: W tensorflow/compiler/tf2tensorrt/utils/py_utils.cc:38] TF-TRT Warning: Could not find TensorRT\n"
     ]
    },
    {
     "name": "stdout",
     "output_type": "stream",
     "text": [
      "[2023-07-11 19:38:35,413: INFO: utils]: Note: NumExpr detected 16 cores but \"NUMEXPR_MAX_THREADS\" not set, so enforcing safe limit of 8.\n",
      "[2023-07-11 19:38:35,414: INFO: utils]: NumExpr defaulting to 8 threads.\n"
     ]
    }
   ],
   "source": [
    "import os\n",
    "import urllib.request as request\n",
    "from zipfile import ZipFile\n",
    "import tensorflow as tf\n",
    "import time\n",
    "\n",
    "class Training:\n",
    "    def __init__(self, config: TrainingConfig):\n",
    "        self.config = config\n",
    "\n",
    "    def get_base_model(self):\n",
    "        self.model = tf.keras.models.load_model(\n",
    "            self.config.updated_base_model_path\n",
    "        )\n",
    "\n",
    "    def train_valid_generator(self):\n",
    "    \n",
    "        datagenerator_kwargs = dict(\n",
    "            rescale = 1./255,\n",
    "            validation_split=0.20\n",
    "        )\n",
    "\n",
    "        dataflow_kwargs = dict(\n",
    "            target_size=self.config.params_image_size[:-1],\n",
    "            batch_size=self.config.params_batch_size,\n",
    "            interpolation=\"bilinear\"\n",
    "        )\n",
    "        #passing all datagenerator_kwargs  if augmentation is False\n",
    "        valid_datagenerator = tf.keras.preprocessing.image.ImageDataGenerator(\n",
    "            **datagenerator_kwargs     #** for keyword argument\n",
    "        )\n",
    "\n",
    "        self.valid_generator = valid_datagenerator.flow_from_directory(\n",
    "            directory=self.config.training_data,  #fetch the data\n",
    "            subset=\"validation\",   #validation subset for spliting dataset for validation\n",
    "            shuffle=False,         #since it's a image data we can either shuffle with Boolean\n",
    "            **dataflow_kwargs    #passing keyword argument\n",
    "        )\n",
    "        #if augmentation is True then\n",
    "        if self.config.params_is_augmentation:\n",
    "            train_datagenerator = tf.keras.preprocessing.image.ImageDataGenerator(\n",
    "                featurewise_center=False,\n",
    "                samplewise_center=False, \n",
    "                featurewise_std_normalization=False,\n",
    "                samplewise_std_normalization=False,\n",
    "                zca_whitening=False,\n",
    "                rotation_range=10,\n",
    "                zoom_range = 0.1, \n",
    "                width_shift_range=0.1,\n",
    "                height_shift_range=0.1,\n",
    "                horizontal_flip=False,\n",
    "                vertical_flip=False,\n",
    "                **datagenerator_kwargs\n",
    "            )\n",
    "        else:\n",
    "            #remain same\n",
    "            train_datagenerator = valid_datagenerator\n",
    "\n",
    "\n",
    "        #specify the training data directory\n",
    "        self.train_generator = train_datagenerator.flow_from_directory(\n",
    "            directory=self.config.training_data,\n",
    "            subset=\"training\",\n",
    "            shuffle=True, #suffle is to be done  while training\n",
    "            **dataflow_kwargs\n",
    "        )\n",
    "\n",
    "    @staticmethod\n",
    "    def save_model(path: Path, model: tf.keras.Model):\n",
    "        model.save(path)\n",
    "\n",
    "\n",
    "    def train(self, callback_list: list):\n",
    "        #we need steps per epochs and validation steps\n",
    "        self.steps_per_epoch = self.train_generator.samples // self.train_generator.batch_size\n",
    "        self.validation_steps = self.valid_generator.samples // self.valid_generator.batch_size\n",
    "        #call the model and fit it\n",
    "        self.model.fit(\n",
    "            self.train_generator,\n",
    "            epochs=self.config.params_epochs,\n",
    "            steps_per_epoch=self.steps_per_epoch,\n",
    "            validation_steps=self.validation_steps,\n",
    "            validation_data=self.valid_generator,\n",
    "            callbacks=callback_list\n",
    "        )\n",
    "\n",
    "        self.save_model(\n",
    "            path=self.config.trained_model_path,\n",
    "            model=self.model\n",
    "        )"
   ]
  },
  {
   "cell_type": "code",
   "execution_count": 6,
   "metadata": {},
   "outputs": [],
   "source": [
    "import os\n",
    "import urllib.request as request\n",
    "from zipfile import ZipFile\n",
    "import tensorflow as tf\n",
    "import time\n",
    "\n",
    "class PrepareCallback:\n",
    "    def __init__(self, config: PrepareCallbacksConfig):\n",
    "        self.config = config\n",
    "\n",
    "    # @property\n",
    "    # def _create_tb_callbacks(self):\n",
    "    #     timestamp = time.strftime(\"%Y-%m-%d-%H-%M-%S\")\n",
    "    #     tb_running_log_dir = os.path.join(\n",
    "    #         self.config.tensorboard_root_log_dir,\n",
    "    #         f\"tb_logs_at_{timestamp}\",\n",
    "    #     )\n",
    "    #     return tf.keras.callbacks.TensorBoard(log_dir=tb_running_log_dir)\n",
    "\n",
    "    # @property\n",
    "    # def _create_ckpt_callbacks(self):\n",
    "    #     return tf.keras.callbacks.ModelCheckpoint(\n",
    "    #         filepath=self.config.checkpoint_model_filepath,\n",
    "    #         save_best_only=True\n",
    "    #     )\n",
    "    @property\n",
    "    def _create_tensorboard_callback(self):\n",
    "        tb_running_log_dir = os.path.join(self.config.tensorboard_root_log_dir,time.strftime(\"%Y%m%d-%H%M%S\"))\n",
    "        tensorboard_callback = tf.keras.callbacks.TensorBoard(log_dir=tb_running_log_dir)\n",
    "        return tensorboard_callback\n",
    "    \n",
    "\n",
    "    @property\n",
    "    def _create_ckpt_callbacks(self):\n",
    "        checkpoint_model_filepath = str(self.config.checkpoint_model_filepath)  # Convert to string if it's a PosixPath object\n",
    "        \n",
    "        return tf.keras.callbacks.ModelCheckpoint(\n",
    "                filepath=checkpoint_model_filepath, \n",
    "                save_best_only=True\n",
    "            )\n",
    "         \n",
    "    def get_tb_ckpt_callbacks(self):\n",
    "        return [\n",
    "            self._create_tensorboard_callback,\n",
    "            self._create_ckpt_callbacks\n",
    "        ]"
   ]
  },
  {
   "cell_type": "code",
   "execution_count": 7,
   "metadata": {},
   "outputs": [
    {
     "name": "stdout",
     "output_type": "stream",
     "text": [
      "[2023-07-11 19:38:35,837: INFO: utility]: yaml file: configs/config.yaml loaded successfully\n",
      "[2023-07-11 19:38:35,839: INFO: utility]: yaml file: params.yaml loaded successfully\n",
      "[2023-07-11 19:38:35,840: INFO: utility]: created directory at: artifacts\n",
      "[2023-07-11 19:38:35,841: INFO: utility]: created directory at: artifacts/prepare_callbacks/checkpoint_dir\n",
      "[2023-07-11 19:38:35,841: INFO: utility]: created directory at: artifacts/prepare_callbacks/tensorboard_log_dir\n",
      "[2023-07-11 19:38:35,843: INFO: utility]: created directory at: artifacts/training\n"
     ]
    },
    {
     "name": "stderr",
     "output_type": "stream",
     "text": [
      "2023-07-11 19:38:37.076760: I tensorflow/compiler/xla/stream_executor/cuda/cuda_gpu_executor.cc:995] successful NUMA node read from SysFS had negative value (-1), but there must be at least one NUMA node, so returning NUMA node zero. See more at https://github.com/torvalds/linux/blob/v6.0/Documentation/ABI/testing/sysfs-bus-pci#L344-L355\n",
      "2023-07-11 19:38:37.170579: I tensorflow/compiler/xla/stream_executor/cuda/cuda_gpu_executor.cc:995] successful NUMA node read from SysFS had negative value (-1), but there must be at least one NUMA node, so returning NUMA node zero. See more at https://github.com/torvalds/linux/blob/v6.0/Documentation/ABI/testing/sysfs-bus-pci#L344-L355\n",
      "2023-07-11 19:38:37.170743: I tensorflow/compiler/xla/stream_executor/cuda/cuda_gpu_executor.cc:995] successful NUMA node read from SysFS had negative value (-1), but there must be at least one NUMA node, so returning NUMA node zero. See more at https://github.com/torvalds/linux/blob/v6.0/Documentation/ABI/testing/sysfs-bus-pci#L344-L355\n",
      "2023-07-11 19:38:37.171821: I tensorflow/compiler/xla/stream_executor/cuda/cuda_gpu_executor.cc:995] successful NUMA node read from SysFS had negative value (-1), but there must be at least one NUMA node, so returning NUMA node zero. See more at https://github.com/torvalds/linux/blob/v6.0/Documentation/ABI/testing/sysfs-bus-pci#L344-L355\n",
      "2023-07-11 19:38:37.171949: I tensorflow/compiler/xla/stream_executor/cuda/cuda_gpu_executor.cc:995] successful NUMA node read from SysFS had negative value (-1), but there must be at least one NUMA node, so returning NUMA node zero. See more at https://github.com/torvalds/linux/blob/v6.0/Documentation/ABI/testing/sysfs-bus-pci#L344-L355\n",
      "2023-07-11 19:38:37.172056: I tensorflow/compiler/xla/stream_executor/cuda/cuda_gpu_executor.cc:995] successful NUMA node read from SysFS had negative value (-1), but there must be at least one NUMA node, so returning NUMA node zero. See more at https://github.com/torvalds/linux/blob/v6.0/Documentation/ABI/testing/sysfs-bus-pci#L344-L355\n",
      "2023-07-11 19:38:37.821986: I tensorflow/compiler/xla/stream_executor/cuda/cuda_gpu_executor.cc:995] successful NUMA node read from SysFS had negative value (-1), but there must be at least one NUMA node, so returning NUMA node zero. See more at https://github.com/torvalds/linux/blob/v6.0/Documentation/ABI/testing/sysfs-bus-pci#L344-L355\n",
      "2023-07-11 19:38:37.822134: I tensorflow/compiler/xla/stream_executor/cuda/cuda_gpu_executor.cc:995] successful NUMA node read from SysFS had negative value (-1), but there must be at least one NUMA node, so returning NUMA node zero. See more at https://github.com/torvalds/linux/blob/v6.0/Documentation/ABI/testing/sysfs-bus-pci#L344-L355\n",
      "2023-07-11 19:38:37.822245: I tensorflow/compiler/xla/stream_executor/cuda/cuda_gpu_executor.cc:995] successful NUMA node read from SysFS had negative value (-1), but there must be at least one NUMA node, so returning NUMA node zero. See more at https://github.com/torvalds/linux/blob/v6.0/Documentation/ABI/testing/sysfs-bus-pci#L344-L355\n",
      "2023-07-11 19:38:37.822345: I tensorflow/core/common_runtime/gpu/gpu_device.cc:1639] Created device /job:localhost/replica:0/task:0/device:GPU:0 with 4110 MB memory:  -> device: 0, name: NVIDIA GeForce RTX 3060 Laptop GPU, pci bus id: 0000:01:00.0, compute capability: 8.6\n"
     ]
    },
    {
     "name": "stdout",
     "output_type": "stream",
     "text": [
      "Found 33128 images belonging to 28 classes.\n",
      "Found 132542 images belonging to 28 classes.\n",
      "Epoch 1/20\n"
     ]
    },
    {
     "name": "stderr",
     "output_type": "stream",
     "text": [
      "2023-07-11 19:38:41.677436: E tensorflow/core/grappler/optimizers/meta_optimizer.cc:954] layout failed: INVALID_ARGUMENT: Size of values 0 does not match size of permutation 4 @ fanin shape inmodel/dropout_1/dropout/SelectV2-2-TransposeNHWCToNCHW-LayoutOptimizer\n",
      "2023-07-11 19:38:43.158428: I tensorflow/compiler/xla/stream_executor/cuda/cuda_dnn.cc:432] Loaded cuDNN version 8600\n",
      "2023-07-11 19:38:44.255741: I tensorflow/compiler/xla/stream_executor/cuda/cuda_blas.cc:606] TensorFloat-32 will be used for the matrix multiplication. This will only be logged once.\n",
      "2023-07-11 19:38:44.266917: I tensorflow/compiler/xla/service/service.cc:168] XLA service 0x7ef941fb0a40 initialized for platform CUDA (this does not guarantee that XLA will be used). Devices:\n",
      "2023-07-11 19:38:44.266969: I tensorflow/compiler/xla/service/service.cc:176]   StreamExecutor device (0): NVIDIA GeForce RTX 3060 Laptop GPU, Compute Capability 8.6\n",
      "2023-07-11 19:38:44.288769: I tensorflow/compiler/mlir/tensorflow/utils/dump_mlir_util.cc:255] disabling MLIR crash reproducer, set env var `MLIR_CRASH_REPRODUCER_DIRECTORY` to enable.\n",
      "2023-07-11 19:38:44.427561: I ./tensorflow/compiler/jit/device_compiler.h:186] Compiled cluster using XLA!  This line is logged at most once for the lifetime of the process.\n"
     ]
    },
    {
     "name": "stdout",
     "output_type": "stream",
     "text": [
      "1035/1035 [==============================] - 223s 211ms/step - loss: 0.1745 - accuracy: 0.9458 - val_loss: 0.0834 - val_accuracy: 0.9768\n",
      "Epoch 2/20\n"
     ]
    },
    {
     "name": "stderr",
     "output_type": "stream",
     "text": [
      "/home/lang_chain/Documents/ASL_alphabet/.venv/lib/python3.8/site-packages/keras/src/engine/training.py:3000: UserWarning: You are saving your model as an HDF5 file via `model.save()`. This file format is considered legacy. We recommend using instead the native Keras format, e.g. `model.save('my_model.keras')`.\n",
      "  saving_api.save_model(\n"
     ]
    },
    {
     "name": "stdout",
     "output_type": "stream",
     "text": [
      "1035/1035 [==============================] - 192s 185ms/step - loss: 0.0149 - accuracy: 0.9951 - val_loss: 2.8287 - val_accuracy: 0.5548\n",
      "Epoch 3/20\n",
      "1035/1035 [==============================] - 186s 179ms/step - loss: 0.0118 - accuracy: 0.9961 - val_loss: 3.6011 - val_accuracy: 0.4891\n",
      "Epoch 4/20\n",
      "1035/1035 [==============================] - 193s 187ms/step - loss: 0.0108 - accuracy: 0.9965 - val_loss: 4.6637 - val_accuracy: 0.5563\n",
      "Epoch 5/20\n",
      "1035/1035 [==============================] - 197s 190ms/step - loss: 0.0088 - accuracy: 0.9973 - val_loss: 11.8214 - val_accuracy: 0.3709\n",
      "Epoch 6/20\n",
      "1035/1035 [==============================] - 192s 185ms/step - loss: 0.0089 - accuracy: 0.9975 - val_loss: 0.0063 - val_accuracy: 0.9978\n",
      "Epoch 7/20\n",
      "1035/1035 [==============================] - 184s 178ms/step - loss: 0.0071 - accuracy: 0.9980 - val_loss: 9.9502 - val_accuracy: 0.4358\n",
      "Epoch 8/20\n",
      "1035/1035 [==============================] - 185s 179ms/step - loss: 0.0072 - accuracy: 0.9980 - val_loss: 0.0737 - val_accuracy: 0.9809\n",
      "Epoch 9/20\n",
      "1035/1035 [==============================] - 188s 182ms/step - loss: 0.0073 - accuracy: 0.9980 - val_loss: 2.5534 - val_accuracy: 0.7574\n",
      "Epoch 10/20\n",
      "1035/1035 [==============================] - 187s 180ms/step - loss: 0.0056 - accuracy: 0.9985 - val_loss: 59.8901 - val_accuracy: 0.1364\n",
      "Epoch 11/20\n",
      "1035/1035 [==============================] - 187s 180ms/step - loss: 0.0057 - accuracy: 0.9986 - val_loss: 186.6181 - val_accuracy: 0.0363\n",
      "Epoch 12/20\n",
      "1035/1035 [==============================] - 189s 183ms/step - loss: 0.0070 - accuracy: 0.9985 - val_loss: 0.2013 - val_accuracy: 0.9532\n",
      "Epoch 13/20\n",
      "1035/1035 [==============================] - 197s 190ms/step - loss: 0.0053 - accuracy: 0.9986 - val_loss: 0.7005 - val_accuracy: 0.8961\n",
      "Epoch 14/20\n",
      "1035/1035 [==============================] - 193s 187ms/step - loss: 0.0049 - accuracy: 0.9987 - val_loss: 4.2062 - val_accuracy: 0.6159\n",
      "Epoch 15/20\n",
      "1035/1035 [==============================] - 195s 188ms/step - loss: 0.0049 - accuracy: 0.9987 - val_loss: 0.6547 - val_accuracy: 0.8777\n",
      "Epoch 16/20\n",
      "1035/1035 [==============================] - 187s 181ms/step - loss: 0.0041 - accuracy: 0.9990 - val_loss: 0.6050 - val_accuracy: 0.9275\n",
      "Epoch 17/20\n",
      "1035/1035 [==============================] - 197s 190ms/step - loss: 0.0050 - accuracy: 0.9988 - val_loss: 0.1756 - val_accuracy: 0.9674\n",
      "Epoch 18/20\n",
      "1035/1035 [==============================] - 184s 178ms/step - loss: 0.0046 - accuracy: 0.9990 - val_loss: 0.0633 - val_accuracy: 0.9873\n",
      "Epoch 19/20\n",
      "1035/1035 [==============================] - 188s 181ms/step - loss: 0.0038 - accuracy: 0.9991 - val_loss: 2.3452 - val_accuracy: 0.7540\n",
      "Epoch 20/20\n",
      "1035/1035 [==============================] - 192s 185ms/step - loss: 0.0044 - accuracy: 0.9990 - val_loss: 1.5219e-04 - val_accuracy: 0.9999\n"
     ]
    }
   ],
   "source": [
    "try:\n",
    "    config = ConfigurationManager()\n",
    "    prepare_callbacks_config = config.get_prepare_callback_config()\n",
    "    prepare_callbacks = PrepareCallback(config=prepare_callbacks_config)\n",
    "    callback_list = prepare_callbacks.get_tb_ckpt_callbacks()\n",
    "    \n",
    "    training_config = config.get_training_config()\n",
    "    training = Training(config=training_config)\n",
    "    training.get_base_model()\n",
    "    training.train_valid_generator()\n",
    "    training.train(\n",
    "        callback_list=callback_list\n",
    "    )\n",
    "    \n",
    "except Exception as e:\n",
    "    raise e"
   ]
  },
  {
   "cell_type": "code",
   "execution_count": 8,
   "metadata": {},
   "outputs": [
    {
     "data": {
      "text/plain": [
       "'artifacts/data_ingestion/ASL_Dataset/Train'"
      ]
     },
     "execution_count": 8,
     "metadata": {},
     "output_type": "execute_result"
    }
   ],
   "source": [
    "\n",
    "os.path.join(\"artifacts/data_ingestion\", \"ASL_Dataset\",\"Train\")"
   ]
  },
  {
   "cell_type": "code",
   "execution_count": null,
   "metadata": {},
   "outputs": [],
   "source": []
  }
 ],
 "metadata": {
  "kernelspec": {
   "display_name": ".venv",
   "language": "python",
   "name": "python3"
  },
  "language_info": {
   "codemirror_mode": {
    "name": "ipython",
    "version": 3
   },
   "file_extension": ".py",
   "mimetype": "text/x-python",
   "name": "python",
   "nbconvert_exporter": "python",
   "pygments_lexer": "ipython3",
   "version": "3.8.17"
  },
  "orig_nbformat": 4
 },
 "nbformat": 4,
 "nbformat_minor": 2
}
